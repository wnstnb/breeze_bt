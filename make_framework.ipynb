{
 "cells": [
  {
   "cell_type": "code",
   "execution_count": 1,
   "metadata": {},
   "outputs": [],
   "source": [
    "import vectorbt as vbt\n",
    "import numpy as np\n",
    "import pandas as pd\n",
    "import yfinance as yf\n",
    "from numba import njit\n",
    "import ta"
   ]
  },
  {
   "cell_type": "code",
   "execution_count": 2,
   "metadata": {},
   "outputs": [],
   "source": [
    "# Data\n",
    "symbol = 'SPXL'  # Using QQQ as an example\n",
    "\n",
    "strat_name = 'dual_ema_crossover'\n",
    "\n",
    "freq='1D'\n",
    "\n",
    "price = vbt.YFData.download(\n",
    "    symbol,\n",
    "    start='1/1/2023',\n",
    "    interval='1d'\n",
    ").get('Close')\n",
    "\n",
    "fast_level = np.arange(9,27)\n",
    "slow_level = np.arange(26,60)\n",
    "EMA = vbt.IndicatorFactory.from_ta('EMAIndicator')\n",
    "# ema13 = EMA.run(price, 5)\n",
    "# ema48 = EMA.run(price, 10)\n",
    "\n",
    "windows = np.arange(2, 101)\n",
    "ema13, ema48 = EMA.run_combs(price, window=windows, r=2, short_names=['ema_fast', 'ema_slow'])\n",
    "\n",
    "entries = ema13.ema_indicator_crossed_above(ema48)\n",
    "exits = ema48.ema_indicator_crossed_below(ema48)\n",
    "\n",
    "@njit\n",
    "def adjust_sl_func_nb(c):\n",
    "    current_profit = (c.val_price_now - c.init_price) / c.init_price\n",
    "    if current_profit >= 0.6:\n",
    "        return 0.4, True\n",
    "    if current_profit >= 0.40:\n",
    "        return 0.05, True\n",
    "    elif current_profit >= 0.2:\n",
    "        return 0.01, True\n",
    "    # elif current_profit >= 0.05:\n",
    "    #     return 0.01, True\n",
    "    # else:\n",
    "    #     return 0.2, False\n",
    "    return c.curr_stop, c.curr_trail\n",
    "\n",
    "take_profit_pct = 20  # 10%\n",
    "stop_loss_pct = 0.1  # -5%\n",
    "\n",
    "# Backtest with vectorbt, specifying short entries and exits\n",
    "pf = vbt.Portfolio.from_signals(\n",
    "    close=price,\n",
    "    entries=entries,\n",
    "    exits=exits,\n",
    "    short_entries=exits,\n",
    "    short_exits=entries,\n",
    "    # init_cash=10000,\n",
    "    # size=1,\n",
    "    # size_type=vbt.portfolio.enums.SizeType.Percent,\n",
    "    sl_stop=stop_loss_pct,\n",
    "    adjust_sl_func_nb=adjust_sl_func_nb,\n",
    "    tp_stop=take_profit_pct,\n",
    "    freq=freq\n",
    ")"
   ]
  },
  {
   "cell_type": "code",
   "execution_count": 12,
   "metadata": {},
   "outputs": [
    {
     "ename": "AttributeError",
     "evalue": "'Portfolio' object has no attribute 'profit_factor'",
     "output_type": "error",
     "traceback": [
      "\u001b[1;31m---------------------------------------------------------------------------\u001b[0m",
      "\u001b[1;31mAttributeError\u001b[0m                            Traceback (most recent call last)",
      "Cell \u001b[1;32mIn[12], line 1\u001b[0m\n\u001b[1;32m----> 1\u001b[0m \u001b[43mpf\u001b[49m\u001b[38;5;241;43m.\u001b[39;49m\u001b[43mprofit_factor\u001b[49m()[::\u001b[38;5;241m-\u001b[39m\u001b[38;5;241m1\u001b[39m]\n",
      "\u001b[1;31mAttributeError\u001b[0m: 'Portfolio' object has no attribute 'profit_factor'"
     ]
    }
   ],
   "source": [
    "pf.total_return()[::-1]"
   ]
  },
  {
   "cell_type": "code",
   "execution_count": 5,
   "metadata": {},
   "outputs": [],
   "source": [
    "xx = pf.get_orders()\n",
    "\n",
    "# pf.cumulative_returns().vbt.plot().show()\n",
    "max_pf = pf.total_return().idxmax()\n"
   ]
  },
  {
   "cell_type": "code",
   "execution_count": 14,
   "metadata": {},
   "outputs": [
    {
     "data": {
      "text/plain": [
       "(2, 3)"
      ]
     },
     "execution_count": 14,
     "metadata": {},
     "output_type": "execute_result"
    }
   ],
   "source": [
    "max_pf"
   ]
  },
  {
   "cell_type": "code",
   "execution_count": 23,
   "metadata": {},
   "outputs": [],
   "source": [
    "feats = list(pf.total_return().index.names)"
   ]
  },
  {
   "cell_type": "code",
   "execution_count": 29,
   "metadata": {},
   "outputs": [
    {
     "data": {
      "text/plain": [
       "{'m': 1}"
      ]
     },
     "execution_count": 29,
     "metadata": {},
     "output_type": "execute_result"
    }
   ],
   "source": [
    "dict(m=1)"
   ]
  },
  {
   "cell_type": "code",
   "execution_count": 30,
   "metadata": {},
   "outputs": [],
   "source": [
    "best_feats = dict({f:m for f,m in zip(feats, max_pf)})"
   ]
  },
  {
   "cell_type": "code",
   "execution_count": 31,
   "metadata": {},
   "outputs": [
    {
     "data": {
      "text/plain": [
       "{'ema_fast_window': 2, 'ema_slow_window': 3}"
      ]
     },
     "execution_count": 31,
     "metadata": {},
     "output_type": "execute_result"
    }
   ],
   "source": [
    "best_feats"
   ]
  },
  {
   "cell_type": "code",
   "execution_count": null,
   "metadata": {},
   "outputs": [],
   "source": [
    "\n",
    "opf = pf[max_pf]\n",
    "opf.plot().show()\n",
    "\n",
    "# Show performance metrics\n",
    "print(max_pf)\n",
    "\n",
    "\n",
    "print(opf.stats())\n"
   ]
  },
  {
   "cell_type": "code",
   "execution_count": 62,
   "metadata": {},
   "outputs": [],
   "source": [
    "# Make dataframe to store 👉🏽 `strategy_stats`\n",
    "base_stats = opf.stats()"
   ]
  },
  {
   "cell_type": "code",
   "execution_count": 135,
   "metadata": {},
   "outputs": [],
   "source": [
    "base_stats['Features'] = best_feats\n",
    "base_stats['Ticker'] = symbol"
   ]
  },
  {
   "cell_type": "code",
   "execution_count": 152,
   "metadata": {},
   "outputs": [],
   "source": [
    "df_store = pd.DataFrame(base_stats).T.reset_index(drop=True).convert_dtypes()"
   ]
  },
  {
   "cell_type": "code",
   "execution_count": 153,
   "metadata": {},
   "outputs": [],
   "source": [
    "import re\n",
    "\n",
    "def to_snake_case(df):\n",
    "    \"\"\"\n",
    "    Convert the column names of a DataFrame to lowercase snake_case format,\n",
    "    removing special characters and newlines before conversion.\n",
    "    \n",
    "    Parameters:\n",
    "    - df: pandas.DataFrame\n",
    "    \n",
    "    Returns:\n",
    "    - DataFrame with column names in snake_case format.\n",
    "    \"\"\"\n",
    "    # First, replace newlines with spaces, then remove special characters except spaces\n",
    "    df.columns = [col.replace('\\n', '') for col in df.columns]\n",
    "    df.columns = [col.replace('[%]', '') for col in df.columns]\n",
    "    df.columns = [col.strip() for col in df.columns]\n",
    "    df.columns = [col.replace(' ', '_') for col in df.columns]\n",
    "    df.columns = [col.lower() for col in df.columns]\n",
    "    \n",
    "    return df"
   ]
  },
  {
   "cell_type": "code",
   "execution_count": 154,
   "metadata": {},
   "outputs": [
    {
     "data": {
      "text/html": [
       "<div>\n",
       "<style scoped>\n",
       "    .dataframe tbody tr th:only-of-type {\n",
       "        vertical-align: middle;\n",
       "    }\n",
       "\n",
       "    .dataframe tbody tr th {\n",
       "        vertical-align: top;\n",
       "    }\n",
       "\n",
       "    .dataframe thead th {\n",
       "        text-align: right;\n",
       "    }\n",
       "</style>\n",
       "<table border=\"1\" class=\"dataframe\">\n",
       "  <thead>\n",
       "    <tr style=\"text-align: right;\">\n",
       "      <th></th>\n",
       "      <th>Start</th>\n",
       "      <th>End</th>\n",
       "      <th>Period</th>\n",
       "      <th>Start Value</th>\n",
       "      <th>End Value</th>\n",
       "      <th>Total Return [%]</th>\n",
       "      <th>Benchmark Return [%]</th>\n",
       "      <th>Max Gross Exposure [%]</th>\n",
       "      <th>Total Fees Paid</th>\n",
       "      <th>Max Drawdown [%]</th>\n",
       "      <th>...</th>\n",
       "      <th>Avg Winning Trade Duration</th>\n",
       "      <th>Avg Losing Trade Duration</th>\n",
       "      <th>Profit Factor</th>\n",
       "      <th>Expectancy</th>\n",
       "      <th>Sharpe Ratio</th>\n",
       "      <th>Calmar Ratio</th>\n",
       "      <th>Omega Ratio</th>\n",
       "      <th>Sortino Ratio</th>\n",
       "      <th>Features</th>\n",
       "      <th>Ticker</th>\n",
       "    </tr>\n",
       "  </thead>\n",
       "  <tbody>\n",
       "    <tr>\n",
       "      <th>0</th>\n",
       "      <td>2023-01-03 05:00:00+00:00</td>\n",
       "      <td>2024-04-10 04:00:00+00:00</td>\n",
       "      <td>319 days</td>\n",
       "      <td>100</td>\n",
       "      <td>173.354377</td>\n",
       "      <td>73.354377</td>\n",
       "      <td>108.29801</td>\n",
       "      <td>100</td>\n",
       "      <td>0</td>\n",
       "      <td>32.791902</td>\n",
       "      <td>...</td>\n",
       "      <td>37 days 14:24:00</td>\n",
       "      <td>30 days 08:00:00</td>\n",
       "      <td>2.845573</td>\n",
       "      <td>10.582717</td>\n",
       "      <td>1.678868</td>\n",
       "      <td>2.673454</td>\n",
       "      <td>1.270981</td>\n",
       "      <td>2.528137</td>\n",
       "      <td>{'ema_fast_window': 2, 'ema_slow_window': 3}</td>\n",
       "      <td>SPXL</td>\n",
       "    </tr>\n",
       "  </tbody>\n",
       "</table>\n",
       "<p>1 rows × 30 columns</p>\n",
       "</div>"
      ],
      "text/plain": [
       "                      Start                       End   Period  Start Value  \\\n",
       "0 2023-01-03 05:00:00+00:00 2024-04-10 04:00:00+00:00 319 days          100   \n",
       "\n",
       "    End Value  Total Return [%]  Benchmark Return [%]  Max Gross Exposure [%]  \\\n",
       "0  173.354377         73.354377             108.29801                     100   \n",
       "\n",
       "   Total Fees Paid  Max Drawdown [%]  ... Avg Winning Trade Duration  \\\n",
       "0                0         32.791902  ...           37 days 14:24:00   \n",
       "\n",
       "   Avg Losing Trade Duration  Profit Factor  Expectancy  Sharpe Ratio  \\\n",
       "0           30 days 08:00:00       2.845573   10.582717      1.678868   \n",
       "\n",
       "   Calmar Ratio  Omega Ratio  Sortino Ratio  \\\n",
       "0      2.673454     1.270981       2.528137   \n",
       "\n",
       "                                       Features  Ticker  \n",
       "0  {'ema_fast_window': 2, 'ema_slow_window': 3}    SPXL  \n",
       "\n",
       "[1 rows x 30 columns]"
      ]
     },
     "execution_count": 154,
     "metadata": {},
     "output_type": "execute_result"
    }
   ],
   "source": [
    "df_store"
   ]
  },
  {
   "cell_type": "code",
   "execution_count": 155,
   "metadata": {},
   "outputs": [
    {
     "data": {
      "text/html": [
       "<div>\n",
       "<style scoped>\n",
       "    .dataframe tbody tr th:only-of-type {\n",
       "        vertical-align: middle;\n",
       "    }\n",
       "\n",
       "    .dataframe tbody tr th {\n",
       "        vertical-align: top;\n",
       "    }\n",
       "\n",
       "    .dataframe thead th {\n",
       "        text-align: right;\n",
       "    }\n",
       "</style>\n",
       "<table border=\"1\" class=\"dataframe\">\n",
       "  <thead>\n",
       "    <tr style=\"text-align: right;\">\n",
       "      <th></th>\n",
       "      <th>start</th>\n",
       "      <th>end</th>\n",
       "      <th>period</th>\n",
       "      <th>start_value</th>\n",
       "      <th>end_value</th>\n",
       "      <th>total_return</th>\n",
       "      <th>benchmark_return</th>\n",
       "      <th>max_gross_exposure</th>\n",
       "      <th>total_fees_paid</th>\n",
       "      <th>max_drawdown</th>\n",
       "      <th>...</th>\n",
       "      <th>avg_winning_trade_duration</th>\n",
       "      <th>avg_losing_trade_duration</th>\n",
       "      <th>profit_factor</th>\n",
       "      <th>expectancy</th>\n",
       "      <th>sharpe_ratio</th>\n",
       "      <th>calmar_ratio</th>\n",
       "      <th>omega_ratio</th>\n",
       "      <th>sortino_ratio</th>\n",
       "      <th>features</th>\n",
       "      <th>ticker</th>\n",
       "    </tr>\n",
       "  </thead>\n",
       "  <tbody>\n",
       "    <tr>\n",
       "      <th>0</th>\n",
       "      <td>2023-01-03 05:00:00+00:00</td>\n",
       "      <td>2024-04-10 04:00:00+00:00</td>\n",
       "      <td>319 days</td>\n",
       "      <td>100</td>\n",
       "      <td>173.354377</td>\n",
       "      <td>73.354377</td>\n",
       "      <td>108.29801</td>\n",
       "      <td>100</td>\n",
       "      <td>0</td>\n",
       "      <td>32.791902</td>\n",
       "      <td>...</td>\n",
       "      <td>37 days 14:24:00</td>\n",
       "      <td>30 days 08:00:00</td>\n",
       "      <td>2.845573</td>\n",
       "      <td>10.582717</td>\n",
       "      <td>1.678868</td>\n",
       "      <td>2.673454</td>\n",
       "      <td>1.270981</td>\n",
       "      <td>2.528137</td>\n",
       "      <td>{'ema_fast_window': 2, 'ema_slow_window': 3}</td>\n",
       "      <td>SPXL</td>\n",
       "    </tr>\n",
       "  </tbody>\n",
       "</table>\n",
       "<p>1 rows × 30 columns</p>\n",
       "</div>"
      ],
      "text/plain": [
       "                      start                       end   period  start_value  \\\n",
       "0 2023-01-03 05:00:00+00:00 2024-04-10 04:00:00+00:00 319 days          100   \n",
       "\n",
       "    end_value  total_return  benchmark_return  max_gross_exposure  \\\n",
       "0  173.354377     73.354377         108.29801                 100   \n",
       "\n",
       "   total_fees_paid  max_drawdown  ... avg_winning_trade_duration  \\\n",
       "0                0     32.791902  ...           37 days 14:24:00   \n",
       "\n",
       "   avg_losing_trade_duration  profit_factor  expectancy  sharpe_ratio  \\\n",
       "0           30 days 08:00:00       2.845573   10.582717      1.678868   \n",
       "\n",
       "   calmar_ratio  omega_ratio  sortino_ratio  \\\n",
       "0      2.673454     1.270981       2.528137   \n",
       "\n",
       "                                       features  ticker  \n",
       "0  {'ema_fast_window': 2, 'ema_slow_window': 3}    SPXL  \n",
       "\n",
       "[1 rows x 30 columns]"
      ]
     },
     "execution_count": 155,
     "metadata": {},
     "output_type": "execute_result"
    }
   ],
   "source": [
    "to_snake_case(df_store)"
   ]
  },
  {
   "cell_type": "code",
   "execution_count": 162,
   "metadata": {},
   "outputs": [],
   "source": [
    "df_store.to_csv('strategy_stats.csv')"
   ]
  },
  {
   "cell_type": "code",
   "execution_count": 163,
   "metadata": {},
   "outputs": [
    {
     "data": {
      "text/html": [
       "<div>\n",
       "<style scoped>\n",
       "    .dataframe tbody tr th:only-of-type {\n",
       "        vertical-align: middle;\n",
       "    }\n",
       "\n",
       "    .dataframe tbody tr th {\n",
       "        vertical-align: top;\n",
       "    }\n",
       "\n",
       "    .dataframe thead th {\n",
       "        text-align: right;\n",
       "    }\n",
       "</style>\n",
       "<table border=\"1\" class=\"dataframe\">\n",
       "  <thead>\n",
       "    <tr style=\"text-align: right;\">\n",
       "      <th></th>\n",
       "      <th>start</th>\n",
       "      <th>end</th>\n",
       "      <th>period</th>\n",
       "      <th>start_value</th>\n",
       "      <th>end_value</th>\n",
       "      <th>total_return</th>\n",
       "      <th>benchmark_return</th>\n",
       "      <th>max_gross_exposure</th>\n",
       "      <th>total_fees_paid</th>\n",
       "      <th>max_drawdown</th>\n",
       "      <th>...</th>\n",
       "      <th>avg_winning_trade_duration</th>\n",
       "      <th>avg_losing_trade_duration</th>\n",
       "      <th>profit_factor</th>\n",
       "      <th>expectancy</th>\n",
       "      <th>sharpe_ratio</th>\n",
       "      <th>calmar_ratio</th>\n",
       "      <th>omega_ratio</th>\n",
       "      <th>sortino_ratio</th>\n",
       "      <th>features</th>\n",
       "      <th>ticker</th>\n",
       "    </tr>\n",
       "  </thead>\n",
       "  <tbody>\n",
       "    <tr>\n",
       "      <th>0</th>\n",
       "      <td>2023-01-03 05:00:00+00:00</td>\n",
       "      <td>2024-04-10 04:00:00+00:00</td>\n",
       "      <td>319 days</td>\n",
       "      <td>100</td>\n",
       "      <td>173.354377</td>\n",
       "      <td>73.354377</td>\n",
       "      <td>108.29801</td>\n",
       "      <td>100</td>\n",
       "      <td>0</td>\n",
       "      <td>32.791902</td>\n",
       "      <td>...</td>\n",
       "      <td>37 days 14:24:00</td>\n",
       "      <td>30 days 08:00:00</td>\n",
       "      <td>2.845573</td>\n",
       "      <td>10.582717</td>\n",
       "      <td>1.678868</td>\n",
       "      <td>2.673454</td>\n",
       "      <td>1.270981</td>\n",
       "      <td>2.528137</td>\n",
       "      <td>{'ema_fast_window': 2, 'ema_slow_window': 3}</td>\n",
       "      <td>SPXL</td>\n",
       "    </tr>\n",
       "  </tbody>\n",
       "</table>\n",
       "<p>1 rows × 30 columns</p>\n",
       "</div>"
      ],
      "text/plain": [
       "                      start                       end   period  start_value  \\\n",
       "0 2023-01-03 05:00:00+00:00 2024-04-10 04:00:00+00:00 319 days          100   \n",
       "\n",
       "    end_value  total_return  benchmark_return  max_gross_exposure  \\\n",
       "0  173.354377     73.354377         108.29801                 100   \n",
       "\n",
       "   total_fees_paid  max_drawdown  ... avg_winning_trade_duration  \\\n",
       "0                0     32.791902  ...           37 days 14:24:00   \n",
       "\n",
       "   avg_losing_trade_duration  profit_factor  expectancy  sharpe_ratio  \\\n",
       "0           30 days 08:00:00       2.845573   10.582717      1.678868   \n",
       "\n",
       "   calmar_ratio  omega_ratio  sortino_ratio  \\\n",
       "0      2.673454     1.270981       2.528137   \n",
       "\n",
       "                                       features  ticker  \n",
       "0  {'ema_fast_window': 2, 'ema_slow_window': 3}    SPXL  \n",
       "\n",
       "[1 rows x 30 columns]"
      ]
     },
     "execution_count": 163,
     "metadata": {},
     "output_type": "execute_result"
    }
   ],
   "source": [
    "df_store"
   ]
  },
  {
   "cell_type": "code",
   "execution_count": 54,
   "metadata": {},
   "outputs": [
    {
     "data": {
      "text/plain": [
       "Date\n",
       "2018-01-02 05:00:00+00:00     43.365036\n",
       "2018-01-03 05:00:00+00:00     44.132732\n",
       "2018-01-04 05:00:00+00:00     44.689304\n",
       "2018-01-05 05:00:00+00:00     45.533764\n",
       "2018-01-08 05:00:00+00:00     45.812054\n",
       "                                ...    \n",
       "2024-03-25 04:00:00+00:00    131.880005\n",
       "2024-03-26 04:00:00+00:00    130.809998\n",
       "2024-03-27 04:00:00+00:00    134.080002\n",
       "2024-03-28 04:00:00+00:00    134.029999\n",
       "2024-04-01 04:00:00+00:00    133.193405\n",
       "Name: (5, 10), Length: 1571, dtype: float64"
      ]
     },
     "execution_count": 54,
     "metadata": {},
     "output_type": "execute_result"
    }
   ],
   "source": [
    "xx.config['close'][max_pf]"
   ]
  },
  {
   "cell_type": "code",
   "execution_count": 73,
   "metadata": {},
   "outputs": [
    {
     "ename": "AttributeError",
     "evalue": "'numpy.float64' object has no attribute 'vbt'",
     "output_type": "error",
     "traceback": [
      "\u001b[1;31m---------------------------------------------------------------------------\u001b[0m",
      "\u001b[1;31mAttributeError\u001b[0m                            Traceback (most recent call last)",
      "Cell \u001b[1;32mIn[73], line 3\u001b[0m\n\u001b[0;32m      1\u001b[0m pf_kwargs \u001b[38;5;241m=\u001b[39m \u001b[38;5;28mdict\u001b[39m(size\u001b[38;5;241m=\u001b[39mnp\u001b[38;5;241m.\u001b[39minf, fees\u001b[38;5;241m=\u001b[39m\u001b[38;5;241m0.001\u001b[39m, freq\u001b[38;5;241m=\u001b[39m\u001b[38;5;124m'\u001b[39m\u001b[38;5;124m1D\u001b[39m\u001b[38;5;124m'\u001b[39m)\n\u001b[1;32m----> 3\u001b[0m fig \u001b[38;5;241m=\u001b[39m \u001b[43mpf\u001b[49m\u001b[38;5;241;43m.\u001b[39;49m\u001b[43mtotal_return\u001b[49m\u001b[43m(\u001b[49m\u001b[43m)\u001b[49m\u001b[38;5;241;43m.\u001b[39;49m\u001b[43mvbt\u001b[49m\u001b[38;5;241m.\u001b[39mheatmap(\n\u001b[0;32m      4\u001b[0m     x_level\u001b[38;5;241m=\u001b[39m\u001b[38;5;124m'\u001b[39m\u001b[38;5;124mfast_window\u001b[39m\u001b[38;5;124m'\u001b[39m, y_level\u001b[38;5;241m=\u001b[39m\u001b[38;5;124m'\u001b[39m\u001b[38;5;124mslow_window\u001b[39m\u001b[38;5;124m'\u001b[39m, symmetric\u001b[38;5;241m=\u001b[39m\u001b[38;5;28;01mTrue\u001b[39;00m,\n\u001b[0;32m      5\u001b[0m     trace_kwargs\u001b[38;5;241m=\u001b[39m\u001b[38;5;28mdict\u001b[39m(colorbar\u001b[38;5;241m=\u001b[39m\u001b[38;5;28mdict\u001b[39m(title\u001b[38;5;241m=\u001b[39m\u001b[38;5;124m'\u001b[39m\u001b[38;5;124mTotal return\u001b[39m\u001b[38;5;124m'\u001b[39m, tickformat\u001b[38;5;241m=\u001b[39m\u001b[38;5;124m'\u001b[39m\u001b[38;5;124m%\u001b[39m\u001b[38;5;124m'\u001b[39m)))\n\u001b[0;32m      6\u001b[0m fig\u001b[38;5;241m.\u001b[39mshow()\n",
      "\u001b[1;31mAttributeError\u001b[0m: 'numpy.float64' object has no attribute 'vbt'"
     ]
    }
   ],
   "source": [
    "pf_kwargs = dict(size=np.inf, fees=0.001, freq='1D')\n",
    "\n",
    "fig = pf.total_return().vbt.heatmap(\n",
    "    x_level='fast_window', y_level='slow_window', symmetric=True,\n",
    "    trace_kwargs=dict(colorbar=dict(title='Total return', tickformat='%')))\n",
    "fig.show()"
   ]
  }
 ],
 "metadata": {
  "kernelspec": {
   "display_name": ".venv",
   "language": "python",
   "name": "python3"
  },
  "language_info": {
   "codemirror_mode": {
    "name": "ipython",
    "version": 3
   },
   "file_extension": ".py",
   "mimetype": "text/x-python",
   "name": "python",
   "nbconvert_exporter": "python",
   "pygments_lexer": "ipython3",
   "version": "3.12.2"
  }
 },
 "nbformat": 4,
 "nbformat_minor": 2
}
