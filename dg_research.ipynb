{
 "cells": [
  {
   "cell_type": "code",
   "execution_count": 1,
   "metadata": {},
   "outputs": [
    {
     "data": {
      "text/plain": [
       "True"
      ]
     },
     "execution_count": 1,
     "metadata": {},
     "output_type": "execute_result"
    }
   ],
   "source": [
    "# import vectorbt as vbt\n",
    "import numpy as np\n",
    "import pandas as pd\n",
    "import yfinance as yf\n",
    "from numba import njit\n",
    "import ta\n",
    "from supabase import create_client, Client\n",
    "from dotenv import load_dotenv\n",
    "import os\n",
    "from tqdm import tqdm\n",
    "load_dotenv()\n"
   ]
  },
  {
   "cell_type": "code",
   "execution_count": 6,
   "metadata": {},
   "outputs": [
    {
     "name": "stderr",
     "output_type": "stream",
     "text": [
      "20000it [00:00, 27599.14it/s]\n"
     ]
    }
   ],
   "source": [
    "# Pull in data. Calculate PL Dot and Envelope Bot and Top\n",
    "# daily = pd.read_sql_query('''\n",
    "#     SELECT * FROM NDX_full_1day\n",
    "# ''', con = engine.connect())\n",
    "\n",
    "# Get Supabase credentials from .env\n",
    "SUPABASE_URL = os.getenv('SUPABASE_URL')\n",
    "SUPABASE_KEY = os.getenv('SUPABASE_KEY')\n",
    "\n",
    "# Create a client\n",
    "supabase: Client = create_client(SUPABASE_URL, SUPABASE_KEY)\n",
    "\n",
    "all_dfs = []\n",
    "start = 0\n",
    "chunk_size = 10000\n",
    "\n",
    "with tqdm(total=None) as pbar:\n",
    "    while True:\n",
    "        # Query your database\n",
    "        data = (supabase\n",
    "                .table('NDX_full_1day')\n",
    "                .select(\"*\")\n",
    "                .order(\"Datetime\", desc=False)\n",
    "                .range(start, start + chunk_size - 1)  # Adjust the range for each chunk\n",
    "                .execute())\n",
    "\n",
    "        # If no data is returned, break the loop\n",
    "        if not data.data:\n",
    "            break\n",
    "\n",
    "        df_data = pd.DataFrame.from_dict(data.data)\n",
    "        all_dfs.append(df_data)\n",
    "\n",
    "        # Update the start for the next chunk\n",
    "        start += chunk_size\n",
    "\n",
    "        # Update the progress bar\n",
    "        pbar.update(chunk_size)\n",
    "\n",
    "daily = pd.concat(all_dfs)\n",
    "daily['Datetime'] = pd.to_datetime(daily['Datetime'])\n",
    "# daily['Datetime'] = daily['Datetime'].dt.tz_convert('America/New_York')\n",
    "daily = daily.set_index('Datetime')\n",
    "# price = df_price['Close']"
   ]
  },
  {
   "cell_type": "code",
   "execution_count": 8,
   "metadata": {},
   "outputs": [
    {
     "name": "stderr",
     "output_type": "stream",
     "text": [
      "410000it [00:15, 26456.55it/s]\n"
     ]
    }
   ],
   "source": [
    "# Pull in data. Calculate PL Dot and Envelope Bot and Top\n",
    "# daily = pd.read_sql_query('''\n",
    "#     SELECT * FROM NDX_full_1day\n",
    "# ''', con = engine.connect())\n",
    "\n",
    "# Get Supabase credentials from .env\n",
    "SUPABASE_URL = os.getenv('SUPABASE_URL')\n",
    "SUPABASE_KEY = os.getenv('SUPABASE_KEY')\n",
    "\n",
    "# Create a client\n",
    "supabase: Client = create_client(SUPABASE_URL, SUPABASE_KEY)\n",
    "\n",
    "all_dfs = []\n",
    "start = 0\n",
    "chunk_size = 10000\n",
    "\n",
    "with tqdm(total=None) as pbar:\n",
    "    while True:\n",
    "        # Query your database\n",
    "        data = (supabase\n",
    "                .table('NDX_full_5min')\n",
    "                .select(\"*\")\n",
    "                .order(\"Datetime\", desc=False)\n",
    "                .range(start, start + chunk_size - 1)  # Adjust the range for each chunk\n",
    "                .execute())\n",
    "\n",
    "        # If no data is returned, break the loop\n",
    "        if not data.data:\n",
    "            break\n",
    "\n",
    "        df_data = pd.DataFrame.from_dict(data.data)\n",
    "        all_dfs.append(df_data)\n",
    "\n",
    "        # Update the start for the next chunk\n",
    "        start += chunk_size\n",
    "\n",
    "        # Update the progress bar\n",
    "        pbar.update(chunk_size)\n",
    "\n",
    "intra = pd.concat(all_dfs)\n",
    "intra['Datetime'] = pd.to_datetime(intra['Datetime'])\n",
    "# intra['Datetime'] = intra['Datetime'].dt.tz_localize('America/New_York')\n",
    "intra = intra.set_index('Datetime')\n",
    "# price = df_price['Close']"
   ]
  },
  {
   "cell_type": "code",
   "execution_count": 9,
   "metadata": {},
   "outputs": [
    {
     "data": {
      "text/html": [
       "<div>\n",
       "<style scoped>\n",
       "    .dataframe tbody tr th:only-of-type {\n",
       "        vertical-align: middle;\n",
       "    }\n",
       "\n",
       "    .dataframe tbody tr th {\n",
       "        vertical-align: top;\n",
       "    }\n",
       "\n",
       "    .dataframe thead th {\n",
       "        text-align: right;\n",
       "    }\n",
       "</style>\n",
       "<table border=\"1\" class=\"dataframe\">\n",
       "  <thead>\n",
       "    <tr style=\"text-align: right;\">\n",
       "      <th></th>\n",
       "      <th>Open</th>\n",
       "      <th>High</th>\n",
       "      <th>Low</th>\n",
       "      <th>Close</th>\n",
       "    </tr>\n",
       "    <tr>\n",
       "      <th>Datetime</th>\n",
       "      <th></th>\n",
       "      <th></th>\n",
       "      <th></th>\n",
       "      <th></th>\n",
       "    </tr>\n",
       "  </thead>\n",
       "  <tbody>\n",
       "    <tr>\n",
       "      <th>2000-11-27 00:00:00+00:00</th>\n",
       "      <td>2910.5698</td>\n",
       "      <td>2913.7600</td>\n",
       "      <td>2759.9800</td>\n",
       "      <td>2769.3198</td>\n",
       "    </tr>\n",
       "    <tr>\n",
       "      <th>2000-11-27 00:00:00+00:00</th>\n",
       "      <td>2910.5698</td>\n",
       "      <td>2913.7600</td>\n",
       "      <td>2759.9800</td>\n",
       "      <td>2769.3198</td>\n",
       "    </tr>\n",
       "    <tr>\n",
       "      <th>2000-11-28 00:00:00+00:00</th>\n",
       "      <td>2763.8601</td>\n",
       "      <td>2795.1499</td>\n",
       "      <td>2619.5000</td>\n",
       "      <td>2621.1101</td>\n",
       "    </tr>\n",
       "    <tr>\n",
       "      <th>2000-11-28 00:00:00+00:00</th>\n",
       "      <td>2763.8601</td>\n",
       "      <td>2795.1499</td>\n",
       "      <td>2619.5000</td>\n",
       "      <td>2621.1101</td>\n",
       "    </tr>\n",
       "    <tr>\n",
       "      <th>2000-11-29 00:00:00+00:00</th>\n",
       "      <td>2635.0500</td>\n",
       "      <td>2670.5300</td>\n",
       "      <td>2520.1396</td>\n",
       "      <td>2603.2600</td>\n",
       "    </tr>\n",
       "  </tbody>\n",
       "</table>\n",
       "</div>"
      ],
      "text/plain": [
       "                                Open       High        Low      Close\n",
       "Datetime                                                             \n",
       "2000-11-27 00:00:00+00:00  2910.5698  2913.7600  2759.9800  2769.3198\n",
       "2000-11-27 00:00:00+00:00  2910.5698  2913.7600  2759.9800  2769.3198\n",
       "2000-11-28 00:00:00+00:00  2763.8601  2795.1499  2619.5000  2621.1101\n",
       "2000-11-28 00:00:00+00:00  2763.8601  2795.1499  2619.5000  2621.1101\n",
       "2000-11-29 00:00:00+00:00  2635.0500  2670.5300  2520.1396  2603.2600"
      ]
     },
     "execution_count": 9,
     "metadata": {},
     "output_type": "execute_result"
    }
   ],
   "source": [
    "daily.head()"
   ]
  },
  {
   "cell_type": "code",
   "execution_count": 10,
   "metadata": {},
   "outputs": [
    {
     "data": {
      "text/html": [
       "<div>\n",
       "<style scoped>\n",
       "    .dataframe tbody tr th:only-of-type {\n",
       "        vertical-align: middle;\n",
       "    }\n",
       "\n",
       "    .dataframe tbody tr th {\n",
       "        vertical-align: top;\n",
       "    }\n",
       "\n",
       "    .dataframe thead th {\n",
       "        text-align: right;\n",
       "    }\n",
       "</style>\n",
       "<table border=\"1\" class=\"dataframe\">\n",
       "  <thead>\n",
       "    <tr style=\"text-align: right;\">\n",
       "      <th></th>\n",
       "      <th>Open</th>\n",
       "      <th>High</th>\n",
       "      <th>Low</th>\n",
       "      <th>Close</th>\n",
       "    </tr>\n",
       "    <tr>\n",
       "      <th>Datetime</th>\n",
       "      <th></th>\n",
       "      <th></th>\n",
       "      <th></th>\n",
       "      <th></th>\n",
       "    </tr>\n",
       "  </thead>\n",
       "  <tbody>\n",
       "    <tr>\n",
       "      <th>2008-01-02 09:30:00+00:00</th>\n",
       "      <td>2085.53</td>\n",
       "      <td>2090.53</td>\n",
       "      <td>2085.53</td>\n",
       "      <td>2090.53</td>\n",
       "    </tr>\n",
       "    <tr>\n",
       "      <th>2008-01-02 09:30:00+00:00</th>\n",
       "      <td>2085.53</td>\n",
       "      <td>2090.53</td>\n",
       "      <td>2085.53</td>\n",
       "      <td>2090.53</td>\n",
       "    </tr>\n",
       "    <tr>\n",
       "      <th>2008-01-02 09:35:00+00:00</th>\n",
       "      <td>2091.10</td>\n",
       "      <td>2092.54</td>\n",
       "      <td>2088.45</td>\n",
       "      <td>2092.54</td>\n",
       "    </tr>\n",
       "    <tr>\n",
       "      <th>2008-01-02 09:35:00+00:00</th>\n",
       "      <td>2091.10</td>\n",
       "      <td>2092.54</td>\n",
       "      <td>2088.45</td>\n",
       "      <td>2092.54</td>\n",
       "    </tr>\n",
       "    <tr>\n",
       "      <th>2008-01-02 09:40:00+00:00</th>\n",
       "      <td>2092.92</td>\n",
       "      <td>2094.22</td>\n",
       "      <td>2091.54</td>\n",
       "      <td>2092.07</td>\n",
       "    </tr>\n",
       "  </tbody>\n",
       "</table>\n",
       "</div>"
      ],
      "text/plain": [
       "                              Open     High      Low    Close\n",
       "Datetime                                                     \n",
       "2008-01-02 09:30:00+00:00  2085.53  2090.53  2085.53  2090.53\n",
       "2008-01-02 09:30:00+00:00  2085.53  2090.53  2085.53  2090.53\n",
       "2008-01-02 09:35:00+00:00  2091.10  2092.54  2088.45  2092.54\n",
       "2008-01-02 09:35:00+00:00  2091.10  2092.54  2088.45  2092.54\n",
       "2008-01-02 09:40:00+00:00  2092.92  2094.22  2091.54  2092.07"
      ]
     },
     "execution_count": 10,
     "metadata": {},
     "output_type": "execute_result"
    }
   ],
   "source": [
    "intra.head()"
   ]
  },
  {
   "cell_type": "code",
   "execution_count": 11,
   "metadata": {},
   "outputs": [],
   "source": [
    "intra = intra.drop_duplicates()"
   ]
  },
  {
   "cell_type": "code",
   "execution_count": 12,
   "metadata": {},
   "outputs": [
    {
     "data": {
      "text/html": [
       "<div>\n",
       "<style scoped>\n",
       "    .dataframe tbody tr th:only-of-type {\n",
       "        vertical-align: middle;\n",
       "    }\n",
       "\n",
       "    .dataframe tbody tr th {\n",
       "        vertical-align: top;\n",
       "    }\n",
       "\n",
       "    .dataframe thead th {\n",
       "        text-align: right;\n",
       "    }\n",
       "</style>\n",
       "<table border=\"1\" class=\"dataframe\">\n",
       "  <thead>\n",
       "    <tr style=\"text-align: right;\">\n",
       "      <th></th>\n",
       "      <th>Open</th>\n",
       "      <th>High</th>\n",
       "      <th>Low</th>\n",
       "      <th>Close</th>\n",
       "    </tr>\n",
       "    <tr>\n",
       "      <th>Datetime</th>\n",
       "      <th></th>\n",
       "      <th></th>\n",
       "      <th></th>\n",
       "      <th></th>\n",
       "    </tr>\n",
       "  </thead>\n",
       "  <tbody>\n",
       "    <tr>\n",
       "      <th>2008-01-02 09:30:00+00:00</th>\n",
       "      <td>2085.53</td>\n",
       "      <td>2090.53</td>\n",
       "      <td>2085.53</td>\n",
       "      <td>2090.53</td>\n",
       "    </tr>\n",
       "    <tr>\n",
       "      <th>2008-01-02 09:35:00+00:00</th>\n",
       "      <td>2091.10</td>\n",
       "      <td>2092.54</td>\n",
       "      <td>2088.45</td>\n",
       "      <td>2092.54</td>\n",
       "    </tr>\n",
       "    <tr>\n",
       "      <th>2008-01-02 09:40:00+00:00</th>\n",
       "      <td>2092.92</td>\n",
       "      <td>2094.22</td>\n",
       "      <td>2091.54</td>\n",
       "      <td>2092.07</td>\n",
       "    </tr>\n",
       "    <tr>\n",
       "      <th>2008-01-02 09:45:00+00:00</th>\n",
       "      <td>2092.54</td>\n",
       "      <td>2092.62</td>\n",
       "      <td>2090.03</td>\n",
       "      <td>2090.03</td>\n",
       "    </tr>\n",
       "    <tr>\n",
       "      <th>2008-01-02 09:50:00+00:00</th>\n",
       "      <td>2089.18</td>\n",
       "      <td>2091.27</td>\n",
       "      <td>2088.81</td>\n",
       "      <td>2091.24</td>\n",
       "    </tr>\n",
       "  </tbody>\n",
       "</table>\n",
       "</div>"
      ],
      "text/plain": [
       "                              Open     High      Low    Close\n",
       "Datetime                                                     \n",
       "2008-01-02 09:30:00+00:00  2085.53  2090.53  2085.53  2090.53\n",
       "2008-01-02 09:35:00+00:00  2091.10  2092.54  2088.45  2092.54\n",
       "2008-01-02 09:40:00+00:00  2092.92  2094.22  2091.54  2092.07\n",
       "2008-01-02 09:45:00+00:00  2092.54  2092.62  2090.03  2090.03\n",
       "2008-01-02 09:50:00+00:00  2089.18  2091.27  2088.81  2091.24"
      ]
     },
     "execution_count": 12,
     "metadata": {},
     "output_type": "execute_result"
    }
   ],
   "source": [
    "intra.head()"
   ]
  },
  {
   "cell_type": "code",
   "execution_count": 13,
   "metadata": {},
   "outputs": [],
   "source": [
    "daily = daily.reset_index()\n",
    "intra = intra.reset_index()"
   ]
  },
  {
   "cell_type": "code",
   "execution_count": 17,
   "metadata": {},
   "outputs": [],
   "source": [
    "daily['HLC3'] = (daily['High'] + daily['Low'] + daily['Close']) / 3\n",
    "daily['PLDot'] = daily['HLC3'].rolling(3).mean()\n",
    "daily['High11'] = (daily['HLC3'] * 2) - daily['Low']\n",
    "daily['Low11'] = (daily['HLC3'] * 2) - daily['High']\n",
    "daily['ETop'] = daily['High11'].rolling(3).mean()\n",
    "daily['EBot'] = daily['Low11'].rolling(3).mean()\n",
    "daily['SDHighs'] = daily['ETop'].rolling(10).std()\n",
    "daily['SDLows'] = daily['ETop'].rolling(10).std()\n",
    "daily['XTop'] = daily['ETop'] + daily['SDHighs']\n",
    "daily['XTop2'] = daily['XTop'] + daily['SDHighs']\n",
    "daily['XBot'] = daily['EBot'] - daily['SDLows']\n",
    "daily['XBot2'] = daily['XBot'] - daily['SDLows']\n",
    "\n",
    "# daily['High11'] = daily['High11'].shift(1)\n",
    "# daily['Low11'] = daily['Low11'].shift(1)\n",
    "daily['PLDot'] = daily['PLDot'].shift(1)\n",
    "daily['ETop'] = daily['ETop'].shift(1)\n",
    "daily['EBot'] = daily['EBot'].shift(1)\n",
    "daily['XTop'] = daily['XTop'].shift(1)\n",
    "daily['XTop2'] = daily['XTop2'].shift(1)\n",
    "daily['XBot'] = daily['XBot'].shift(1)\n",
    "daily['XBot2'] = daily['XBot2'].shift(1)"
   ]
  },
  {
   "cell_type": "code",
   "execution_count": 18,
   "metadata": {},
   "outputs": [],
   "source": [
    "daily['PrevClose'] = daily['Close'].shift(1)\n",
    "daily['NextClose'] = daily['Close'].shift(-1)\n",
    "daily['GreenDay'] = daily['Close'] > daily['PrevClose']\n",
    "daily['Gap'] = (daily['Open'] / daily['PrevClose']) - 1\n",
    "daily['Year'] = daily['Datetime'].dt.year\n",
    "daily['EnvSize'] = daily['ETop'] - daily['EBot']\n",
    "daily['EnvSizePct'] = daily['EnvSize'] / daily['PrevClose']\n",
    "\n",
    "# Closes\n",
    "daily['OpenAbovePLDot'] = daily['Open'] > daily['PLDot']\n",
    "daily['OpenAboveETop'] = daily['Open'] > daily['ETop']\n",
    "daily['OpenAboveEBot'] = daily['Open'] > daily['EBot']\n",
    "daily['OpenAboveXBot'] = daily['Open'] > daily['XBot']\n",
    "daily['OpenAboveXTop'] = daily['Open'] > daily['XTop']\n",
    "daily['CloseAboveETop'] = daily['Close'] > daily['ETop']\n",
    "daily['CloseAboveXTop'] = daily['Close'] > daily['XTop']\n",
    "daily['CloseAboveXTop2'] = daily['Close'] > daily['XTop2']\n",
    "daily['CloseBelowEBot'] = daily['Close'] < daily['EBot']\n",
    "daily['CloseBelowXBot'] = daily['Close'] < daily['XBot']\n",
    "daily['CloseBelowXBot2'] = daily['Close'] < daily['XBot2']\n",
    "daily['CloseInEnv'] = (daily['Close'] > daily['EBot']) & (daily['Close'] < daily['ETop'])\n",
    "daily['CloseInX'] = (daily['Close'] > daily['XBot']) & (daily['Close'] < daily['XTop'])\n",
    "daily['CloseInX2'] = (daily['Close'] > daily['XBot2']) & (daily['Close'] < daily['XTop2'])\n",
    "daily['CloseAbovePLDot'] = daily['Close'] > daily['PLDot']\n",
    "\n"
   ]
  },
  {
   "cell_type": "code",
   "execution_count": 19,
   "metadata": {},
   "outputs": [],
   "source": [
    "close_cols = [\n",
    "    'CloseAboveXTop2',\n",
    "    'CloseAboveXTop',\n",
    "    'CloseAboveETop',\n",
    "    'CloseAbovePLDot',\n",
    "    'CloseBelowEBot',\n",
    "    'CloseBelowXBot',\n",
    "    'CloseBelowXBot2',\n",
    "    'CloseInEnv',\n",
    "    'CloseInX',\n",
    "    'CloseInX2',\n",
    "    'GreenDay'\n",
    "]\n",
    "\n",
    "touch_from_above_cols = [\n",
    "    'TouchXTop2FromAbove',\n",
    "    'TouchXTopFromAbove',\n",
    "    'TouchETopFromAbove',\n",
    "    'TouchPLDotFromAbove',\n",
    "    'TouchEBotFromAbove',\n",
    "    'TouchXBotFromAbove',\n",
    "    'TouchXBot2FromAbove'\n",
    "]\n",
    "\n",
    "touch_from_below_cols = [\n",
    "    'TouchXTop2FromBelow',\n",
    "    'TouchXTopFromBelow',\n",
    "    'TouchETopFromBelow',\n",
    "    'TouchPLDotFromBelow',\n",
    "    'TouchEBotFromBelow',\n",
    "    'TouchXBotFromBelow',\n",
    "    'TouchXBot2FromBelow'\n",
    "]"
   ]
  },
  {
   "cell_type": "code",
   "execution_count": 20,
   "metadata": {},
   "outputs": [],
   "source": [
    "import matplotlib.pyplot as plt\n",
    "def getStats(query):\n",
    "    \"\"\"\n",
    "    Given a condition, determine whether price was able to touch certain levels.\n",
    "    \"\"\"\n",
    "    df_use = daily.query(query)\n",
    "    # Touch From Below\n",
    "    df_use.loc[:,'TouchETopFromBelow'] = (df_use['High'] > df_use['ETop']) & (df_use['Open'] < df_use['ETop'])\n",
    "    df_use.loc[:,'TouchXTopFromBelow'] = (df_use['High'] > df_use['XTop']) & (df_use['Open'] < df_use['XTop'])\n",
    "    df_use.loc[:,'TouchXTop2FromBelow'] = (df_use['High'] > df_use['XTop2']) & (df_use['Open'] < df_use['XTop2'])\n",
    "    df_use.loc[:,'TouchPLDotFromBelow'] = (df_use['High'] > df_use['PLDot']) & (df_use['Open'] < df_use['PLDot'])\n",
    "    df_use.loc[:,'TouchEBotFromBelow'] = (df_use['High'] > df_use['EBot']) & (df_use['Open'] < df_use['EBot'])\n",
    "    df_use.loc[:,'TouchXBotFromBelow'] = (df_use['High'] > df_use['XBot']) & (df_use['Open'] < df_use['XBot'])\n",
    "    df_use.loc[:,'TouchXBot2FromBelow'] = (df_use['High'] > df_use['XBot2']) & (df_use['Open'] < df_use['XBot2'])\n",
    "\n",
    "    # Touch From Above\n",
    "    df_use.loc[:,'TouchETopFromAbove'] = (df_use['Low'] < df_use['ETop']) & (df_use['Open'] > df_use['ETop'])\n",
    "    df_use.loc[:,'TouchXTopFromAbove'] = (df_use['Low'] < df_use['XTop']) & (df_use['Open'] > df_use['XTop'])\n",
    "    df_use.loc[:,'TouchXTop2FromAbove'] = (df_use['Low'] < df_use['XTop2']) & (df_use['Open'] > df_use['XTop2'])\n",
    "    df_use.loc[:,'TouchPLDotFromAbove'] = (df_use['Low'] < df_use['PLDot']) & (df_use['Open'] > df_use['PLDot'])\n",
    "    df_use.loc[:,'TouchEBotFromAbove'] = (df_use['Low'] < df_use['EBot']) & (df_use['Open'] > df_use['EBot'])\n",
    "    df_use.loc[:,'TouchXBotFromAbove'] = (df_use['Low'] < df_use['XBot']) & (df_use['Open'] > df_use['XBot'])\n",
    "    df_use.loc[:,'TouchXBot2FromAbove'] = (df_use['Low'] < df_use['XBot2']) & (df_use['Open'] > df_use['XBot2'])\n",
    "    df_above_touch = df_use[touch_from_above_cols].mean()\n",
    "    df_below_touch = df_use[touch_from_below_cols].mean()\n",
    "    df_close = df_use[close_cols].mean()\n",
    "    plt.figure(figsize=(8, 5))\n",
    "    plt.suptitle(f'Stats for when {query}\\n(n={len(df_use):,.0f}/{len(daily):,.0f})')\n",
    "    plt.subplot(1, 3, 1)\n",
    "    df_above_touch.loc[df_above_touch > 0].plot(kind='bar', title=f'Touch from Above')\n",
    "    for i, v in enumerate(df_above_touch.loc[df_above_touch > 0]):\n",
    "        plt.text(i, v + 0.01, f'{v:.0%}', ha='center', va='bottom', fontsize=8)\n",
    "    plt.subplot(1, 3, 2)\n",
    "    df_below_touch.loc[df_below_touch > 0].plot(kind='bar', title=f'Touch from Below')\n",
    "    for i, v in enumerate(df_below_touch.loc[df_below_touch > 0]):\n",
    "        plt.text(i, v + 0.01, f'{v:.0%}', ha='center', va='bottom', fontsize=8)\n",
    "    plt.subplot(1, 3, 3)\n",
    "    df_close.loc[df_close > 0].plot(kind='bar', title=f'Close Stats')\n",
    "    for i, v in enumerate(df_close.loc[df_close > 0]):\n",
    "        plt.text(i, v + 0.01, f'{v:.0%}', ha='center', va='bottom', fontsize=8)\n",
    "    plt.tight_layout()\n",
    "    plt.show()"
   ]
  },
  {
   "cell_type": "code",
   "execution_count": 21,
   "metadata": {},
   "outputs": [
    {
     "name": "stderr",
     "output_type": "stream",
     "text": [
      "C:\\Users\\WINSTON-ITX\\AppData\\Local\\Temp\\ipykernel_28464\\2452504738.py:8: SettingWithCopyWarning: \n",
      "A value is trying to be set on a copy of a slice from a DataFrame.\n",
      "Try using .loc[row_indexer,col_indexer] = value instead\n",
      "\n",
      "See the caveats in the documentation: https://pandas.pydata.org/pandas-docs/stable/user_guide/indexing.html#returning-a-view-versus-a-copy\n",
      "  df_use.loc[:,'TouchETopFromBelow'] = (df_use['High'] > df_use['ETop']) & (df_use['Open'] < df_use['ETop'])\n",
      "C:\\Users\\WINSTON-ITX\\AppData\\Local\\Temp\\ipykernel_28464\\2452504738.py:9: SettingWithCopyWarning: \n",
      "A value is trying to be set on a copy of a slice from a DataFrame.\n",
      "Try using .loc[row_indexer,col_indexer] = value instead\n",
      "\n",
      "See the caveats in the documentation: https://pandas.pydata.org/pandas-docs/stable/user_guide/indexing.html#returning-a-view-versus-a-copy\n",
      "  df_use.loc[:,'TouchXTopFromBelow'] = (df_use['High'] > df_use['XTop']) & (df_use['Open'] < df_use['XTop'])\n",
      "C:\\Users\\WINSTON-ITX\\AppData\\Local\\Temp\\ipykernel_28464\\2452504738.py:10: SettingWithCopyWarning: \n",
      "A value is trying to be set on a copy of a slice from a DataFrame.\n",
      "Try using .loc[row_indexer,col_indexer] = value instead\n",
      "\n",
      "See the caveats in the documentation: https://pandas.pydata.org/pandas-docs/stable/user_guide/indexing.html#returning-a-view-versus-a-copy\n",
      "  df_use.loc[:,'TouchXTop2FromBelow'] = (df_use['High'] > df_use['XTop2']) & (df_use['Open'] < df_use['XTop2'])\n",
      "C:\\Users\\WINSTON-ITX\\AppData\\Local\\Temp\\ipykernel_28464\\2452504738.py:11: SettingWithCopyWarning: \n",
      "A value is trying to be set on a copy of a slice from a DataFrame.\n",
      "Try using .loc[row_indexer,col_indexer] = value instead\n",
      "\n",
      "See the caveats in the documentation: https://pandas.pydata.org/pandas-docs/stable/user_guide/indexing.html#returning-a-view-versus-a-copy\n",
      "  df_use.loc[:,'TouchPLDotFromBelow'] = (df_use['High'] > df_use['PLDot']) & (df_use['Open'] < df_use['PLDot'])\n",
      "C:\\Users\\WINSTON-ITX\\AppData\\Local\\Temp\\ipykernel_28464\\2452504738.py:12: SettingWithCopyWarning: \n",
      "A value is trying to be set on a copy of a slice from a DataFrame.\n",
      "Try using .loc[row_indexer,col_indexer] = value instead\n",
      "\n",
      "See the caveats in the documentation: https://pandas.pydata.org/pandas-docs/stable/user_guide/indexing.html#returning-a-view-versus-a-copy\n",
      "  df_use.loc[:,'TouchEBotFromBelow'] = (df_use['High'] > df_use['EBot']) & (df_use['Open'] < df_use['EBot'])\n",
      "C:\\Users\\WINSTON-ITX\\AppData\\Local\\Temp\\ipykernel_28464\\2452504738.py:13: SettingWithCopyWarning: \n",
      "A value is trying to be set on a copy of a slice from a DataFrame.\n",
      "Try using .loc[row_indexer,col_indexer] = value instead\n",
      "\n",
      "See the caveats in the documentation: https://pandas.pydata.org/pandas-docs/stable/user_guide/indexing.html#returning-a-view-versus-a-copy\n",
      "  df_use.loc[:,'TouchXBotFromBelow'] = (df_use['High'] > df_use['XBot']) & (df_use['Open'] < df_use['XBot'])\n",
      "C:\\Users\\WINSTON-ITX\\AppData\\Local\\Temp\\ipykernel_28464\\2452504738.py:14: SettingWithCopyWarning: \n",
      "A value is trying to be set on a copy of a slice from a DataFrame.\n",
      "Try using .loc[row_indexer,col_indexer] = value instead\n",
      "\n",
      "See the caveats in the documentation: https://pandas.pydata.org/pandas-docs/stable/user_guide/indexing.html#returning-a-view-versus-a-copy\n",
      "  df_use.loc[:,'TouchXBot2FromBelow'] = (df_use['High'] > df_use['XBot2']) & (df_use['Open'] < df_use['XBot2'])\n",
      "C:\\Users\\WINSTON-ITX\\AppData\\Local\\Temp\\ipykernel_28464\\2452504738.py:17: SettingWithCopyWarning: \n",
      "A value is trying to be set on a copy of a slice from a DataFrame.\n",
      "Try using .loc[row_indexer,col_indexer] = value instead\n",
      "\n",
      "See the caveats in the documentation: https://pandas.pydata.org/pandas-docs/stable/user_guide/indexing.html#returning-a-view-versus-a-copy\n",
      "  df_use.loc[:,'TouchETopFromAbove'] = (df_use['Low'] < df_use['ETop']) & (df_use['Open'] > df_use['ETop'])\n",
      "C:\\Users\\WINSTON-ITX\\AppData\\Local\\Temp\\ipykernel_28464\\2452504738.py:18: SettingWithCopyWarning: \n",
      "A value is trying to be set on a copy of a slice from a DataFrame.\n",
      "Try using .loc[row_indexer,col_indexer] = value instead\n",
      "\n",
      "See the caveats in the documentation: https://pandas.pydata.org/pandas-docs/stable/user_guide/indexing.html#returning-a-view-versus-a-copy\n",
      "  df_use.loc[:,'TouchXTopFromAbove'] = (df_use['Low'] < df_use['XTop']) & (df_use['Open'] > df_use['XTop'])\n",
      "C:\\Users\\WINSTON-ITX\\AppData\\Local\\Temp\\ipykernel_28464\\2452504738.py:19: SettingWithCopyWarning: \n",
      "A value is trying to be set on a copy of a slice from a DataFrame.\n",
      "Try using .loc[row_indexer,col_indexer] = value instead\n",
      "\n",
      "See the caveats in the documentation: https://pandas.pydata.org/pandas-docs/stable/user_guide/indexing.html#returning-a-view-versus-a-copy\n",
      "  df_use.loc[:,'TouchXTop2FromAbove'] = (df_use['Low'] < df_use['XTop2']) & (df_use['Open'] > df_use['XTop2'])\n",
      "C:\\Users\\WINSTON-ITX\\AppData\\Local\\Temp\\ipykernel_28464\\2452504738.py:20: SettingWithCopyWarning: \n",
      "A value is trying to be set on a copy of a slice from a DataFrame.\n",
      "Try using .loc[row_indexer,col_indexer] = value instead\n",
      "\n",
      "See the caveats in the documentation: https://pandas.pydata.org/pandas-docs/stable/user_guide/indexing.html#returning-a-view-versus-a-copy\n",
      "  df_use.loc[:,'TouchPLDotFromAbove'] = (df_use['Low'] < df_use['PLDot']) & (df_use['Open'] > df_use['PLDot'])\n",
      "C:\\Users\\WINSTON-ITX\\AppData\\Local\\Temp\\ipykernel_28464\\2452504738.py:21: SettingWithCopyWarning: \n",
      "A value is trying to be set on a copy of a slice from a DataFrame.\n",
      "Try using .loc[row_indexer,col_indexer] = value instead\n",
      "\n",
      "See the caveats in the documentation: https://pandas.pydata.org/pandas-docs/stable/user_guide/indexing.html#returning-a-view-versus-a-copy\n",
      "  df_use.loc[:,'TouchEBotFromAbove'] = (df_use['Low'] < df_use['EBot']) & (df_use['Open'] > df_use['EBot'])\n",
      "C:\\Users\\WINSTON-ITX\\AppData\\Local\\Temp\\ipykernel_28464\\2452504738.py:22: SettingWithCopyWarning: \n",
      "A value is trying to be set on a copy of a slice from a DataFrame.\n",
      "Try using .loc[row_indexer,col_indexer] = value instead\n",
      "\n",
      "See the caveats in the documentation: https://pandas.pydata.org/pandas-docs/stable/user_guide/indexing.html#returning-a-view-versus-a-copy\n",
      "  df_use.loc[:,'TouchXBotFromAbove'] = (df_use['Low'] < df_use['XBot']) & (df_use['Open'] > df_use['XBot'])\n",
      "C:\\Users\\WINSTON-ITX\\AppData\\Local\\Temp\\ipykernel_28464\\2452504738.py:23: SettingWithCopyWarning: \n",
      "A value is trying to be set on a copy of a slice from a DataFrame.\n",
      "Try using .loc[row_indexer,col_indexer] = value instead\n",
      "\n",
      "See the caveats in the documentation: https://pandas.pydata.org/pandas-docs/stable/user_guide/indexing.html#returning-a-view-versus-a-copy\n",
      "  df_use.loc[:,'TouchXBot2FromAbove'] = (df_use['Low'] < df_use['XBot2']) & (df_use['Open'] > df_use['XBot2'])\n"
     ]
    },
    {
     "data": {
      "image/png": "[encoded data removed]",
      "text/plain": [
       "<Figure size 800x500 with 3 Axes>"
      ]
     },
     "metadata": {},
     "output_type": "display_data"
    }
   ],
   "source": [
    "getStats('(OpenAbovePLDot == False) & (OpenAboveEBot == True)')"
   ]
  },
  {
   "cell_type": "markdown",
   "metadata": {},
   "source": [
    "# Exhaust Analysis"
   ]
  },
  {
   "cell_type": "code",
   "execution_count": 22,
   "metadata": {},
   "outputs": [
    {
     "data": {
      "text/plain": [
       "Datetime           datetime64[ns, UTC]\n",
       "Open                           float64\n",
       "High                           float64\n",
       "Low                            float64\n",
       "Close                          float64\n",
       "HLC3                           float64\n",
       "PLDot                          float64\n",
       "High11                         float64\n",
       "Low11                          float64\n",
       "ETop                           float64\n",
       "EBot                           float64\n",
       "SDHighs                        float64\n",
       "SDLows                         float64\n",
       "XTop                           float64\n",
       "XTop2                          float64\n",
       "XBot                           float64\n",
       "XBot2                          float64\n",
       "PrevClose                      float64\n",
       "NextClose                      float64\n",
       "GreenDay                          bool\n",
       "Gap                            float64\n",
       "Year                             int32\n",
       "EnvSize                        float64\n",
       "EnvSizePct                     float64\n",
       "OpenAbovePLDot                    bool\n",
       "OpenAboveETop                     bool\n",
       "OpenAboveEBot                     bool\n",
       "OpenAboveXBot                     bool\n",
       "OpenAboveXTop                     bool\n",
       "CloseAboveETop                    bool\n",
       "CloseAboveXTop                    bool\n",
       "CloseAboveXTop2                   bool\n",
       "CloseBelowEBot                    bool\n",
       "CloseBelowXBot                    bool\n",
       "CloseBelowXBot2                   bool\n",
       "CloseInEnv                        bool\n",
       "CloseInX                          bool\n",
       "CloseInX2                         bool\n",
       "CloseAbovePLDot                   bool\n",
       "dtype: object"
      ]
     },
     "execution_count": 22,
     "metadata": {},
     "output_type": "execute_result"
    }
   ],
   "source": [
    "# Given a 5 min high > Daily XTop, Show performance of the next 12 bars relative to that high.\n",
    "daily.dtypes"
   ]
  },
  {
   "cell_type": "code",
   "execution_count": 23,
   "metadata": {},
   "outputs": [],
   "source": [
    "intra['Date'] = pd.to_datetime(intra['Datetime'].dt.date, utc=True)"
   ]
  },
  {
   "cell_type": "code",
   "execution_count": 24,
   "metadata": {},
   "outputs": [
    {
     "data": {
      "text/plain": [
       "Datetime    datetime64[ns, UTC]\n",
       "Open                    float64\n",
       "High                    float64\n",
       "Low                     float64\n",
       "Close                   float64\n",
       "Date        datetime64[ns, UTC]\n",
       "dtype: object"
      ]
     },
     "execution_count": 24,
     "metadata": {},
     "output_type": "execute_result"
    }
   ],
   "source": [
    "intra.dtypes"
   ]
  },
  {
   "cell_type": "code",
   "execution_count": 25,
   "metadata": {},
   "outputs": [],
   "source": [
    "intra_data = intra.merge(daily[['Datetime','XBot2','XBot','EBot','PLDot','ETop','XTop','XTop2']], how = 'left', left_on = 'Date', right_on = 'Datetime')"
   ]
  },
  {
   "cell_type": "code",
   "execution_count": 26,
   "metadata": {},
   "outputs": [
    {
     "data": {
      "text/html": [
       "<div>\n",
       "<style scoped>\n",
       "    .dataframe tbody tr th:only-of-type {\n",
       "        vertical-align: middle;\n",
       "    }\n",
       "\n",
       "    .dataframe tbody tr th {\n",
       "        vertical-align: top;\n",
       "    }\n",
       "\n",
       "    .dataframe thead th {\n",
       "        text-align: right;\n",
       "    }\n",
       "</style>\n",
       "<table border=\"1\" class=\"dataframe\">\n",
       "  <thead>\n",
       "    <tr style=\"text-align: right;\">\n",
       "      <th></th>\n",
       "      <th>Datetime_x</th>\n",
       "      <th>Open</th>\n",
       "      <th>High</th>\n",
       "      <th>Low</th>\n",
       "      <th>Close</th>\n",
       "      <th>Date</th>\n",
       "      <th>Datetime_y</th>\n",
       "      <th>XBot2</th>\n",
       "      <th>XBot</th>\n",
       "      <th>EBot</th>\n",
       "      <th>PLDot</th>\n",
       "      <th>ETop</th>\n",
       "      <th>XTop</th>\n",
       "      <th>XTop2</th>\n",
       "    </tr>\n",
       "  </thead>\n",
       "  <tbody>\n",
       "    <tr>\n",
       "      <th>0</th>\n",
       "      <td>2008-01-02 09:30:00+00:00</td>\n",
       "      <td>2085.53</td>\n",
       "      <td>2090.53</td>\n",
       "      <td>2085.53</td>\n",
       "      <td>2090.53</td>\n",
       "      <td>2008-01-02 00:00:00+00:00</td>\n",
       "      <td>2008-01-02 00:00:00+00:00</td>\n",
       "      <td>2058.753465</td>\n",
       "      <td>2070.828954</td>\n",
       "      <td>2082.904444</td>\n",
       "      <td>2095.795556</td>\n",
       "      <td>2105.194444</td>\n",
       "      <td>2117.269934</td>\n",
       "      <td>2129.345424</td>\n",
       "    </tr>\n",
       "    <tr>\n",
       "      <th>1</th>\n",
       "      <td>2008-01-02 09:30:00+00:00</td>\n",
       "      <td>2085.53</td>\n",
       "      <td>2090.53</td>\n",
       "      <td>2085.53</td>\n",
       "      <td>2090.53</td>\n",
       "      <td>2008-01-02 00:00:00+00:00</td>\n",
       "      <td>2008-01-02 00:00:00+00:00</td>\n",
       "      <td>2028.712532</td>\n",
       "      <td>2045.207377</td>\n",
       "      <td>2061.702222</td>\n",
       "      <td>2080.684444</td>\n",
       "      <td>2092.172222</td>\n",
       "      <td>2108.667067</td>\n",
       "      <td>2125.161913</td>\n",
       "    </tr>\n",
       "    <tr>\n",
       "      <th>2</th>\n",
       "      <td>2008-01-02 09:35:00+00:00</td>\n",
       "      <td>2091.10</td>\n",
       "      <td>2092.54</td>\n",
       "      <td>2088.45</td>\n",
       "      <td>2092.54</td>\n",
       "      <td>2008-01-02 00:00:00+00:00</td>\n",
       "      <td>2008-01-02 00:00:00+00:00</td>\n",
       "      <td>2058.753465</td>\n",
       "      <td>2070.828954</td>\n",
       "      <td>2082.904444</td>\n",
       "      <td>2095.795556</td>\n",
       "      <td>2105.194444</td>\n",
       "      <td>2117.269934</td>\n",
       "      <td>2129.345424</td>\n",
       "    </tr>\n",
       "    <tr>\n",
       "      <th>3</th>\n",
       "      <td>2008-01-02 09:35:00+00:00</td>\n",
       "      <td>2091.10</td>\n",
       "      <td>2092.54</td>\n",
       "      <td>2088.45</td>\n",
       "      <td>2092.54</td>\n",
       "      <td>2008-01-02 00:00:00+00:00</td>\n",
       "      <td>2008-01-02 00:00:00+00:00</td>\n",
       "      <td>2028.712532</td>\n",
       "      <td>2045.207377</td>\n",
       "      <td>2061.702222</td>\n",
       "      <td>2080.684444</td>\n",
       "      <td>2092.172222</td>\n",
       "      <td>2108.667067</td>\n",
       "      <td>2125.161913</td>\n",
       "    </tr>\n",
       "    <tr>\n",
       "      <th>4</th>\n",
       "      <td>2008-01-02 09:40:00+00:00</td>\n",
       "      <td>2092.92</td>\n",
       "      <td>2094.22</td>\n",
       "      <td>2091.54</td>\n",
       "      <td>2092.07</td>\n",
       "      <td>2008-01-02 00:00:00+00:00</td>\n",
       "      <td>2008-01-02 00:00:00+00:00</td>\n",
       "      <td>2058.753465</td>\n",
       "      <td>2070.828954</td>\n",
       "      <td>2082.904444</td>\n",
       "      <td>2095.795556</td>\n",
       "      <td>2105.194444</td>\n",
       "      <td>2117.269934</td>\n",
       "      <td>2129.345424</td>\n",
       "    </tr>\n",
       "  </tbody>\n",
       "</table>\n",
       "</div>"
      ],
      "text/plain": [
       "                 Datetime_x     Open     High      Low    Close  \\\n",
       "0 2008-01-02 09:30:00+00:00  2085.53  2090.53  2085.53  2090.53   \n",
       "1 2008-01-02 09:30:00+00:00  2085.53  2090.53  2085.53  2090.53   \n",
       "2 2008-01-02 09:35:00+00:00  2091.10  2092.54  2088.45  2092.54   \n",
       "3 2008-01-02 09:35:00+00:00  2091.10  2092.54  2088.45  2092.54   \n",
       "4 2008-01-02 09:40:00+00:00  2092.92  2094.22  2091.54  2092.07   \n",
       "\n",
       "                       Date                Datetime_y        XBot2  \\\n",
       "0 2008-01-02 00:00:00+00:00 2008-01-02 00:00:00+00:00  2058.753465   \n",
       "1 2008-01-02 00:00:00+00:00 2008-01-02 00:00:00+00:00  2028.712532   \n",
       "2 2008-01-02 00:00:00+00:00 2008-01-02 00:00:00+00:00  2058.753465   \n",
       "3 2008-01-02 00:00:00+00:00 2008-01-02 00:00:00+00:00  2028.712532   \n",
       "4 2008-01-02 00:00:00+00:00 2008-01-02 00:00:00+00:00  2058.753465   \n",
       "\n",
       "          XBot         EBot        PLDot         ETop         XTop  \\\n",
       "0  2070.828954  2082.904444  2095.795556  2105.194444  2117.269934   \n",
       "1  2045.207377  2061.702222  2080.684444  2092.172222  2108.667067   \n",
       "2  2070.828954  2082.904444  2095.795556  2105.194444  2117.269934   \n",
       "3  2045.207377  2061.702222  2080.684444  2092.172222  2108.667067   \n",
       "4  2070.828954  2082.904444  2095.795556  2105.194444  2117.269934   \n",
       "\n",
       "         XTop2  \n",
       "0  2129.345424  \n",
       "1  2125.161913  \n",
       "2  2129.345424  \n",
       "3  2125.161913  \n",
       "4  2129.345424  "
      ]
     },
     "execution_count": 26,
     "metadata": {},
     "output_type": "execute_result"
    }
   ],
   "source": [
    "intra_data.head()"
   ]
  },
  {
   "cell_type": "code",
   "execution_count": 27,
   "metadata": {},
   "outputs": [],
   "source": [
    "# Mark Highs > XTop2\n",
    "intra_data['ExhaustXTop2'] = intra_data['High'] > intra_data['XTop2']\n",
    "intra_data['ExhaustXTop'] = intra_data['High'] > intra_data['XTop']"
   ]
  },
  {
   "cell_type": "code",
   "execution_count": 28,
   "metadata": {},
   "outputs": [
    {
     "name": "stderr",
     "output_type": "stream",
     "text": [
      "100%|██████████| 645768/645768 [00:03<00:00, 181026.94it/s]\n"
     ]
    }
   ],
   "source": [
    "from tqdm import tqdm\n",
    "xtop2_rows = []\n",
    "for i in tqdm(range(len(intra_data))):\n",
    "    if intra_data.loc[i, 'ExhaustXTop2']:\n",
    "        xtop2_rows.append(intra_data.iloc[i:i+13])"
   ]
  },
  {
   "cell_type": "code",
   "execution_count": 29,
   "metadata": {},
   "outputs": [
    {
     "name": "stderr",
     "output_type": "stream",
     "text": [
      "100%|██████████| 17392/17392 [00:06<00:00, 2843.42it/s]\n"
     ]
    }
   ],
   "source": [
    "dates, x2s, x2breaches, highs, lows, closes = [], [], [], [], [], []\n",
    "for df in tqdm(xtop2_rows):\n",
    "    # Clean DFs such that only rows with len == 12 and all rows are from the same session as the breach. are included in analysis\n",
    "    df_clean = df.loc[df['Date'] == df['Date'].iloc[0]]\n",
    "    # Calculate the highest high, lowest low, and close of the last bar\n",
    "    if len(df_clean) == 12:\n",
    "        dates.append(df_clean['Datetime_x'].iloc[0])\n",
    "        x2s.append(df_clean['XTop2'].iloc[0])\n",
    "        x2breaches.append(df_clean['High'].iloc[0])\n",
    "        highs.append(df_clean['High'].iloc[1:].max())\n",
    "        lows.append(df_clean['Low'].iloc[1:].min())\n",
    "        closes.append(df_clean['Close'].iloc[-1])\n",
    "    else:\n",
    "        continue"
   ]
  },
  {
   "cell_type": "code",
   "execution_count": 30,
   "metadata": {},
   "outputs": [],
   "source": [
    "df_compare = pd.DataFrame(data={\n",
    "    'dates':dates,\n",
    "    'x2':x2s,\n",
    "    'x2breach':x2breaches,\n",
    "    'hh':highs,\n",
    "    'll':lows,\n",
    "    'cc':closes\n",
    "})"
   ]
  },
  {
   "cell_type": "code",
   "execution_count": 31,
   "metadata": {},
   "outputs": [],
   "source": [
    "df_compare['MAE_pts'] = (df_compare['hh'] - df_compare['x2breach'])\n",
    "df_compare['MFE_pts'] = (df_compare['ll'] - df_compare['x2breach'])\n",
    "df_compare['FinalClose_pts'] = (df_compare['cc'] - df_compare['x2breach'])\n",
    "\n",
    "df_compare['MAE_pct'] = df_compare['MAE_pts'] / df_compare['x2breach']\n",
    "df_compare['MFE_pct'] = df_compare['MFE_pts'] / df_compare['x2breach']\n",
    "df_compare['FinalClose_pct'] = df_compare['FinalClose_pts'] / df_compare['x2breach']\n",
    "\n",
    "df_compare['rr'] = df_compare['MFE_pts'].abs() / df_compare['MAE_pts'].abs()"
   ]
  },
  {
   "cell_type": "code",
   "execution_count": 32,
   "metadata": {},
   "outputs": [],
   "source": [
    "df_compare_single = df_compare.groupby(df_compare['dates'].dt.date).head(1)"
   ]
  },
  {
   "cell_type": "code",
   "execution_count": 33,
   "metadata": {},
   "outputs": [
    {
     "name": "stderr",
     "output_type": "stream",
     "text": [
      "d:\\Projects\\breeze_bt\\.venv\\Lib\\site-packages\\pandas\\core\\nanops.py:1016: RuntimeWarning: invalid value encountered in subtract\n",
      "  sqr = _ensure_numeric((avg - values) ** 2)\n"
     ]
    },
    {
     "data": {
      "text/plain": [
       "count    246.000000\n",
       "mean            inf\n",
       "std             NaN\n",
       "min        0.058985\n",
       "25%        0.732311\n",
       "50%        2.062193\n",
       "75%       15.675403\n",
       "max             inf\n",
       "Name: rr, dtype: float64"
      ]
     },
     "execution_count": 33,
     "metadata": {},
     "output_type": "execute_result"
    }
   ],
   "source": [
    "df_compare_single['rr'].describe()"
   ]
  },
  {
   "cell_type": "code",
   "execution_count": 40,
   "metadata": {},
   "outputs": [
    {
     "data": {
      "text/plain": [
       "count    246.000000\n",
       "mean      22.370951\n",
       "std       38.165109\n",
       "min        0.058985\n",
       "25%        0.732311\n",
       "50%        2.062193\n",
       "75%       15.675403\n",
       "max      100.000000\n",
       "Name: rr, dtype: float64"
      ]
     },
     "execution_count": 40,
     "metadata": {},
     "output_type": "execute_result"
    }
   ],
   "source": [
    "df_compare_single['rr'].clip(-1,100).describe()"
   ]
  },
  {
   "cell_type": "code",
   "execution_count": null,
   "metadata": {},
   "outputs": [],
   "source": [
    "df_compare_single['']"
   ]
  },
  {
   "cell_type": "code",
   "execution_count": 35,
   "metadata": {},
   "outputs": [
    {
     "data": {
      "text/plain": [
       "246"
      ]
     },
     "execution_count": 35,
     "metadata": {},
     "output_type": "execute_result"
    }
   ],
   "source": [
    "len(df_compare_single)"
   ]
  },
  {
   "cell_type": "code",
   "execution_count": 41,
   "metadata": {},
   "outputs": [
    {
     "data": {
      "text/plain": [
       "0.0011466981895379078"
      ]
     },
     "execution_count": 41,
     "metadata": {},
     "output_type": "execute_result"
    }
   ],
   "source": [
    "df_compare_single['MAE_pct'].mean()"
   ]
  },
  {
   "cell_type": "code",
   "execution_count": 42,
   "metadata": {},
   "outputs": [
    {
     "data": {
      "text/plain": [
       "-0.0019863283974560484"
      ]
     },
     "execution_count": 42,
     "metadata": {},
     "output_type": "execute_result"
    }
   ],
   "source": [
    "df_compare_single['MFE_pct'].mean()"
   ]
  },
  {
   "cell_type": "code",
   "execution_count": 43,
   "metadata": {},
   "outputs": [
    {
     "data": {
      "text/plain": [
       "-6.953687430041254e-05"
      ]
     },
     "execution_count": 43,
     "metadata": {},
     "output_type": "execute_result"
    }
   ],
   "source": [
    "df_compare_single['FinalClose_pct'].mean()"
   ]
  },
  {
   "cell_type": "code",
   "execution_count": 44,
   "metadata": {},
   "outputs": [
    {
     "data": {
      "text/plain": [
       "0.5121951219512195"
      ]
     },
     "execution_count": 44,
     "metadata": {},
     "output_type": "execute_result"
    }
   ],
   "source": [
    "len(df_compare_single[(df_compare_single['FinalClose_pts'] < 0)]) / len(df_compare_single)"
   ]
  },
  {
   "cell_type": "code",
   "execution_count": null,
   "metadata": {},
   "outputs": [],
   "source": []
  }
 ],
 "metadata": {
  "kernelspec": {
   "display_name": ".venv",
   "language": "python",
   "name": "python3"
  },
  "language_info": {
   "codemirror_mode": {
    "name": "ipython",
    "version": 3
   },
   "file_extension": ".py",
   "mimetype": "text/x-python",
   "name": "python",
   "nbconvert_exporter": "python",
   "pygments_lexer": "ipython3",
   "version": "3.12.3"
  }
 },
 "nbformat": 4,
 "nbformat_minor": 2
}
