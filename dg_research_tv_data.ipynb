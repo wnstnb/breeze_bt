{
 "cells": [
  {
   "cell_type": "code",
   "execution_count": 1,
   "metadata": {},
   "outputs": [
    {
     "data": {
      "text/plain": [
       "True"
      ]
     },
     "execution_count": 1,
     "metadata": {},
     "output_type": "execute_result"
    }
   ],
   "source": [
    "import pandas as pd\n",
    "import numpy as np\n",
    "from dotenv import load_dotenv\n",
    "import os\n",
    "load_dotenv()"
   ]
  },
  {
   "cell_type": "code",
   "execution_count": 2,
   "metadata": {},
   "outputs": [
    {
     "data": {
      "text/plain": [
       "'d:\\\\Projects\\\\breeze_bt'"
      ]
     },
     "execution_count": 2,
     "metadata": {},
     "output_type": "execute_result"
    }
   ],
   "source": [
    "os.getcwd()"
   ]
  },
  {
   "cell_type": "code",
   "execution_count": 23,
   "metadata": {},
   "outputs": [
    {
     "name": "stderr",
     "output_type": "stream",
     "text": [
      "C:\\Users\\WINSTON-ITX\\AppData\\Local\\Temp\\ipykernel_16352\\2235460076.py:16: UserWarning: Could not infer format, so each element will be parsed individually, falling back to `dateutil`. To ensure parsing is consistent and as-expected, please specify a format.\n",
      "  data['utc'] = pd.to_datetime(data['utc'])\n",
      "C:\\Users\\WINSTON-ITX\\AppData\\Local\\Temp\\ipykernel_16352\\2235460076.py:17: UserWarning: Could not infer format, so each element will be parsed individually, falling back to `dateutil`. To ensure parsing is consistent and as-expected, please specify a format.\n",
      "  data['pdt'] = pd.to_datetime(data['pdt'])\n"
     ]
    }
   ],
   "source": [
    "data = pd.read_csv(f\"{os.getcwd()}\\\\data\\\\CME_MINI_MNQ1!, 60_f97bf.csv\")\n",
    "data.columns = [c.strip() for c in data.columns]\n",
    "\n",
    "for c in ['open','high','low','close','DailyPLDot','DailyETop']:\n",
    "    if pd.api.types.is_numeric_dtype(data[c]):\n",
    "        continue\n",
    "    try:\n",
    "        # clean_vals = [x.strip().replace(',','') for x in data[c]]\n",
    "        data[c] = data[c].str.replace(',','').str.strip()\n",
    "        data[c] = pd.to_numeric(data[c], errors='raise')\n",
    "        data[c] = data[c].round(2)\n",
    "    except:\n",
    "        continue\n",
    "\n",
    "# Convert date columns\n",
    "data['utc'] = pd.to_datetime(data['utc'])\n",
    "data['pdt'] = pd.to_datetime(data['pdt'])"
   ]
  },
  {
   "cell_type": "code",
   "execution_count": 61,
   "metadata": {},
   "outputs": [],
   "source": [
    "all_plds = data.groupby(data['pdt'].dt.date)['DailyPLDot'].head(1).diff()"
   ]
  },
  {
   "cell_type": "code",
   "execution_count": 62,
   "metadata": {},
   "outputs": [
    {
     "data": {
      "text/plain": [
       "0           NaN\n",
       "14          NaN\n",
       "28      -197.81\n",
       "37         0.00\n",
       "60      -229.33\n",
       "          ...  \n",
       "12040      0.00\n",
       "12063    189.77\n",
       "12086    192.34\n",
       "12109     75.28\n",
       "12132     21.38\n",
       "Name: DailyPLDot, Length: 639, dtype: float64"
      ]
     },
     "execution_count": 62,
     "metadata": {},
     "output_type": "execute_result"
    }
   ],
   "source": [
    "all_plds"
   ]
  },
  {
   "cell_type": "code",
   "execution_count": 57,
   "metadata": {},
   "outputs": [
    {
     "data": {
      "text/plain": [
       "0.9474724189033427"
      ]
     },
     "execution_count": 57,
     "metadata": {},
     "output_type": "execute_result"
    }
   ],
   "source": [
    "data['PLD'].isnull().sum()"
   ]
  },
  {
   "cell_type": "code",
   "execution_count": 24,
   "metadata": {},
   "outputs": [
    {
     "data": {
      "text/html": [
       "<div>\n",
       "<style scoped>\n",
       "    .dataframe tbody tr th:only-of-type {\n",
       "        vertical-align: middle;\n",
       "    }\n",
       "\n",
       "    .dataframe tbody tr th {\n",
       "        vertical-align: top;\n",
       "    }\n",
       "\n",
       "    .dataframe thead th {\n",
       "        text-align: right;\n",
       "    }\n",
       "</style>\n",
       "<table border=\"1\" class=\"dataframe\">\n",
       "  <thead>\n",
       "    <tr style=\"text-align: right;\">\n",
       "      <th></th>\n",
       "      <th>time</th>\n",
       "      <th>utc</th>\n",
       "      <th>pdt</th>\n",
       "      <th>open</th>\n",
       "      <th>high</th>\n",
       "      <th>low</th>\n",
       "      <th>close</th>\n",
       "      <th>DailyPLDot</th>\n",
       "      <th>DailyETop</th>\n",
       "      <th>DailyXTop</th>\n",
       "      <th>...</th>\n",
       "      <th>DailyEBot</th>\n",
       "      <th>DailyXBot</th>\n",
       "      <th>DailyXBot2</th>\n",
       "      <th>HourlyPLDot</th>\n",
       "      <th>HourlyETop</th>\n",
       "      <th>HourlyXTop</th>\n",
       "      <th>HourlyXTop2</th>\n",
       "      <th>HourlyEBot</th>\n",
       "      <th>HourlyXBot</th>\n",
       "      <th>HourlyXBot2</th>\n",
       "    </tr>\n",
       "  </thead>\n",
       "  <tbody>\n",
       "    <tr>\n",
       "      <th>0</th>\n",
       "      <td>1650556800</td>\n",
       "      <td>2022-04-21 16:00:00</td>\n",
       "      <td>2022-04-21 09:00:00</td>\n",
       "      <td>15165.25</td>\n",
       "      <td>15186.50</td>\n",
       "      <td>15105.75</td>\n",
       "      <td>15112.50</td>\n",
       "      <td>NaN</td>\n",
       "      <td>NaN</td>\n",
       "      <td>NaN</td>\n",
       "      <td>...</td>\n",
       "      <td>NaN</td>\n",
       "      <td>NaN</td>\n",
       "      <td>NaN</td>\n",
       "      <td>NaN</td>\n",
       "      <td>NaN</td>\n",
       "      <td>NaN</td>\n",
       "      <td>NaN</td>\n",
       "      <td>NaN</td>\n",
       "      <td>NaN</td>\n",
       "      <td>NaN</td>\n",
       "    </tr>\n",
       "    <tr>\n",
       "      <th>1</th>\n",
       "      <td>1650560400</td>\n",
       "      <td>2022-04-21 17:00:00</td>\n",
       "      <td>2022-04-21 10:00:00</td>\n",
       "      <td>15112.50</td>\n",
       "      <td>15151.25</td>\n",
       "      <td>15053.25</td>\n",
       "      <td>15064.50</td>\n",
       "      <td>15220.67</td>\n",
       "      <td>15402.83</td>\n",
       "      <td>15585.0</td>\n",
       "      <td>...</td>\n",
       "      <td>15061.0</td>\n",
       "      <td>14901.33</td>\n",
       "      <td>14741.67</td>\n",
       "      <td>15226.47</td>\n",
       "      <td>15274.11</td>\n",
       "      <td>15321.75</td>\n",
       "      <td>15369.39</td>\n",
       "      <td>15143.11</td>\n",
       "      <td>15059.75</td>\n",
       "      <td>14976.39</td>\n",
       "    </tr>\n",
       "    <tr>\n",
       "      <th>2</th>\n",
       "      <td>1650564000</td>\n",
       "      <td>2022-04-21 18:00:00</td>\n",
       "      <td>2022-04-21 11:00:00</td>\n",
       "      <td>15063.75</td>\n",
       "      <td>15063.75</td>\n",
       "      <td>14942.00</td>\n",
       "      <td>14959.25</td>\n",
       "      <td>15220.67</td>\n",
       "      <td>15402.83</td>\n",
       "      <td>15585.0</td>\n",
       "      <td>...</td>\n",
       "      <td>15061.0</td>\n",
       "      <td>14901.33</td>\n",
       "      <td>14741.67</td>\n",
       "      <td>15147.44</td>\n",
       "      <td>15187.39</td>\n",
       "      <td>15227.33</td>\n",
       "      <td>15267.28</td>\n",
       "      <td>15073.97</td>\n",
       "      <td>15000.50</td>\n",
       "      <td>14927.03</td>\n",
       "    </tr>\n",
       "    <tr>\n",
       "      <th>3</th>\n",
       "      <td>1650567600</td>\n",
       "      <td>2022-04-21 19:00:00</td>\n",
       "      <td>2022-04-21 12:00:00</td>\n",
       "      <td>14958.75</td>\n",
       "      <td>14971.75</td>\n",
       "      <td>14880.25</td>\n",
       "      <td>14921.25</td>\n",
       "      <td>15220.67</td>\n",
       "      <td>15402.83</td>\n",
       "      <td>15585.0</td>\n",
       "      <td>...</td>\n",
       "      <td>15061.0</td>\n",
       "      <td>14901.33</td>\n",
       "      <td>14741.67</td>\n",
       "      <td>15070.97</td>\n",
       "      <td>15108.28</td>\n",
       "      <td>15145.58</td>\n",
       "      <td>15182.89</td>\n",
       "      <td>15008.11</td>\n",
       "      <td>14945.25</td>\n",
       "      <td>14882.39</td>\n",
       "    </tr>\n",
       "    <tr>\n",
       "      <th>4</th>\n",
       "      <td>1650571200</td>\n",
       "      <td>2022-04-21 20:00:00</td>\n",
       "      <td>2022-04-21 13:00:00</td>\n",
       "      <td>14921.25</td>\n",
       "      <td>14936.50</td>\n",
       "      <td>14867.25</td>\n",
       "      <td>14915.50</td>\n",
       "      <td>15220.67</td>\n",
       "      <td>15402.83</td>\n",
       "      <td>15585.0</td>\n",
       "      <td>...</td>\n",
       "      <td>15061.0</td>\n",
       "      <td>14901.33</td>\n",
       "      <td>14741.67</td>\n",
       "      <td>15000.81</td>\n",
       "      <td>15043.11</td>\n",
       "      <td>15085.42</td>\n",
       "      <td>15127.72</td>\n",
       "      <td>14939.36</td>\n",
       "      <td>14877.92</td>\n",
       "      <td>14816.47</td>\n",
       "    </tr>\n",
       "  </tbody>\n",
       "</table>\n",
       "<p>5 rows × 21 columns</p>\n",
       "</div>"
      ],
      "text/plain": [
       "         time                 utc                 pdt      open      high  \\\n",
       "0  1650556800 2022-04-21 16:00:00 2022-04-21 09:00:00  15165.25  15186.50   \n",
       "1  1650560400 2022-04-21 17:00:00 2022-04-21 10:00:00  15112.50  15151.25   \n",
       "2  1650564000 2022-04-21 18:00:00 2022-04-21 11:00:00  15063.75  15063.75   \n",
       "3  1650567600 2022-04-21 19:00:00 2022-04-21 12:00:00  14958.75  14971.75   \n",
       "4  1650571200 2022-04-21 20:00:00 2022-04-21 13:00:00  14921.25  14936.50   \n",
       "\n",
       "        low     close  DailyPLDot  DailyETop  DailyXTop  ...  DailyEBot  \\\n",
       "0  15105.75  15112.50         NaN        NaN        NaN  ...        NaN   \n",
       "1  15053.25  15064.50    15220.67   15402.83    15585.0  ...    15061.0   \n",
       "2  14942.00  14959.25    15220.67   15402.83    15585.0  ...    15061.0   \n",
       "3  14880.25  14921.25    15220.67   15402.83    15585.0  ...    15061.0   \n",
       "4  14867.25  14915.50    15220.67   15402.83    15585.0  ...    15061.0   \n",
       "\n",
       "   DailyXBot  DailyXBot2  HourlyPLDot  HourlyETop  HourlyXTop  HourlyXTop2  \\\n",
       "0        NaN         NaN          NaN         NaN         NaN          NaN   \n",
       "1   14901.33    14741.67     15226.47    15274.11    15321.75     15369.39   \n",
       "2   14901.33    14741.67     15147.44    15187.39    15227.33     15267.28   \n",
       "3   14901.33    14741.67     15070.97    15108.28    15145.58     15182.89   \n",
       "4   14901.33    14741.67     15000.81    15043.11    15085.42     15127.72   \n",
       "\n",
       "   HourlyEBot  HourlyXBot  HourlyXBot2  \n",
       "0         NaN         NaN          NaN  \n",
       "1    15143.11    15059.75     14976.39  \n",
       "2    15073.97    15000.50     14927.03  \n",
       "3    15008.11    14945.25     14882.39  \n",
       "4    14939.36    14877.92     14816.47  \n",
       "\n",
       "[5 rows x 21 columns]"
      ]
     },
     "execution_count": 24,
     "metadata": {},
     "output_type": "execute_result"
    }
   ],
   "source": [
    "data.head()"
   ]
  },
  {
   "cell_type": "code",
   "execution_count": 25,
   "metadata": {},
   "outputs": [
    {
     "data": {
      "text/plain": [
       "time                    int64\n",
       "utc            datetime64[ns]\n",
       "pdt            datetime64[ns]\n",
       "open                  float64\n",
       "high                  float64\n",
       "low                   float64\n",
       "close                 float64\n",
       "DailyPLDot            float64\n",
       "DailyETop             float64\n",
       "DailyXTop             float64\n",
       "DailyXTop2            float64\n",
       "DailyEBot             float64\n",
       "DailyXBot             float64\n",
       "DailyXBot2            float64\n",
       "HourlyPLDot           float64\n",
       "HourlyETop            float64\n",
       "HourlyXTop            float64\n",
       "HourlyXTop2           float64\n",
       "HourlyEBot            float64\n",
       "HourlyXBot            float64\n",
       "HourlyXBot2           float64\n",
       "dtype: object"
      ]
     },
     "execution_count": 25,
     "metadata": {},
     "output_type": "execute_result"
    }
   ],
   "source": [
    "data.dtypes"
   ]
  },
  {
   "cell_type": "code",
   "execution_count": 47,
   "metadata": {},
   "outputs": [],
   "source": [
    "# Get Hourly XBot Crosses\n",
    "data.loc[:,'XBotCrossunder'] = False\n",
    "data.loc[\n",
    "    (data['close'] <= data['HourlyXBot']) &\n",
    "    (data['close'].shift(1) > data['HourlyXBot'].shift(1))\n",
    "    ,'XBotCrossunder'] = True\n",
    "\n",
    "data.loc[:,'XTopCrossover'] = False\n",
    "data.loc[\n",
    "    (data['close'] >= data['HourlyXTop']) &\n",
    "    (data['close'].shift(1) < data['HourlyXTop'].shift(1))\n",
    "    ,'XTopCrossover'] = True"
   ]
  },
  {
   "cell_type": "code",
   "execution_count": 48,
   "metadata": {},
   "outputs": [
    {
     "data": {
      "text/plain": [
       "0.05878478511444097"
      ]
     },
     "execution_count": 48,
     "metadata": {},
     "output_type": "execute_result"
    }
   ],
   "source": [
    "len(data.query('XBotCrossunder == True')) / len(data)"
   ]
  },
  {
   "cell_type": "code",
   "execution_count": 40,
   "metadata": {},
   "outputs": [],
   "source": [
    "# What happens after XBotCrossunder == True\n",
    "# Isolate the days where XBotCrossunder == True\n",
    "true_times = data.query('XBotCrossunder == True')['pdt']\n",
    "true_days = np.unique([t.date() for t in true_times])"
   ]
  },
  {
   "cell_type": "code",
   "execution_count": 50,
   "metadata": {},
   "outputs": [
    {
     "data": {
      "text/plain": [
       "2       2022-04-21 11:00:00\n",
       "7       2022-04-21 17:00:00\n",
       "21      2022-04-22 07:00:00\n",
       "31      2022-04-24 18:00:00\n",
       "36      2022-04-24 23:00:00\n",
       "                ...        \n",
       "12090   2024-05-08 04:00:00\n",
       "12106   2024-05-08 21:00:00\n",
       "12108   2024-05-08 23:00:00\n",
       "12137   2024-05-10 05:00:00\n",
       "12139   2024-05-10 07:00:00\n",
       "Name: pdt, Length: 855, dtype: datetime64[ns]"
      ]
     },
     "execution_count": 50,
     "metadata": {},
     "output_type": "execute_result"
    }
   ],
   "source": [
    "true_times"
   ]
  },
  {
   "cell_type": "code",
   "execution_count": 46,
   "metadata": {},
   "outputs": [
    {
     "name": "stdout",
     "output_type": "stream",
     "text": [
      "         time                 utc                 pdt      open      high  \\\n",
      "2  1650564000 2022-04-21 18:00:00 2022-04-21 11:00:00  15063.75  15063.75   \n",
      "3  1650567600 2022-04-21 19:00:00 2022-04-21 12:00:00  14958.75  14971.75   \n",
      "4  1650571200 2022-04-21 20:00:00 2022-04-21 13:00:00  14921.25  14936.50   \n",
      "5  1650578400 2022-04-21 22:00:00 2022-04-21 15:00:00  14919.00  14927.50   \n",
      "6  1650582000 2022-04-21 23:00:00 2022-04-21 16:00:00  14915.50  14922.25   \n",
      "\n",
      "        low     close  DailyPLDot  DailyETop  DailyXTop  ...  DailyXBot2  \\\n",
      "2  14942.00  14959.25    15220.67   15402.83   15585.00  ...    14741.67   \n",
      "3  14880.25  14921.25    15220.67   15402.83   15585.00  ...    14741.67   \n",
      "4  14867.25  14915.50    15220.67   15402.83   15585.00  ...    14741.67   \n",
      "5  14893.00  14915.75    15217.25   15416.67   15616.08  ...    14447.25   \n",
      "6  14875.00  14882.00    15217.25   15416.67   15616.08  ...    14447.25   \n",
      "\n",
      "   HourlyPLDot  HourlyETop  HourlyXTop  HourlyXTop2  HourlyEBot  HourlyXBot  \\\n",
      "2     15147.44    15187.39    15227.33     15267.28    15073.97    15000.50   \n",
      "3     15070.97    15108.28    15145.58     15182.89    15008.11    14945.25   \n",
      "4     15000.81    15043.11    15085.42     15127.72    14939.36    14877.92   \n",
      "5     14939.72    14982.94    15026.17     15069.39    14888.78    14837.83   \n",
      "6     14914.31    14948.44    14982.58     15016.72    14883.36    14852.42   \n",
      "\n",
      "   HourlyXBot2  XBotCrossunder  XTopCrossover  \n",
      "2     14927.03            True          False  \n",
      "3     14882.39           False          False  \n",
      "4     14816.47           False          False  \n",
      "5     14786.89           False          False  \n",
      "6     14821.47           False          False  \n",
      "\n",
      "[5 rows x 23 columns]\n"
     ]
    }
   ],
   "source": [
    "for time in true_times[0:1]:\n",
    "    df_filtered = data.loc[(data['pdt'] >= time)]\n",
    "    print(df_filtered.head())"
   ]
  },
  {
   "cell_type": "code",
   "execution_count": null,
   "metadata": {},
   "outputs": [],
   "source": []
  }
 ],
 "metadata": {
  "kernelspec": {
   "display_name": ".venv",
   "language": "python",
   "name": "python3"
  },
  "language_info": {
   "codemirror_mode": {
    "name": "ipython",
    "version": 3
   },
   "file_extension": ".py",
   "mimetype": "text/x-python",
   "name": "python",
   "nbconvert_exporter": "python",
   "pygments_lexer": "ipython3",
   "version": "3.12.3"
  }
 },
 "nbformat": 4,
 "nbformat_minor": 2
}
